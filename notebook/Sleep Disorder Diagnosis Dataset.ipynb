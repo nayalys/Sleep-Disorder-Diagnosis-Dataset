{
 "cells": [
  {
   "cell_type": "code",
   "execution_count": 45,
   "metadata": {},
   "outputs": [],
   "source": [
    "# Import library to use in the project\n",
    "import pandas as pd\n",
    "import matplotlib.pyplot as plt\n",
    "import numpy as np\n",
    "\n"
   ]
  },
  {
   "cell_type": "code",
   "execution_count": 46,
   "metadata": {},
   "outputs": [],
   "source": [
    "# Import dataset.csv \n",
    "url = ('../data/Sleep_health_and_lifestyle_dataset.csv')"
   ]
  },
  {
   "cell_type": "code",
   "execution_count": 47,
   "metadata": {},
   "outputs": [],
   "source": [
    "# Read in the dataset\n",
    "df_sleep = pd.read_csv(url)"
   ]
  },
  {
   "cell_type": "code",
   "execution_count": 48,
   "metadata": {},
   "outputs": [
    {
     "data": {
      "text/html": [
       "<div>\n",
       "<style scoped>\n",
       "    .dataframe tbody tr th:only-of-type {\n",
       "        vertical-align: middle;\n",
       "    }\n",
       "\n",
       "    .dataframe tbody tr th {\n",
       "        vertical-align: top;\n",
       "    }\n",
       "\n",
       "    .dataframe thead th {\n",
       "        text-align: right;\n",
       "    }\n",
       "</style>\n",
       "<table border=\"1\" class=\"dataframe\">\n",
       "  <thead>\n",
       "    <tr style=\"text-align: right;\">\n",
       "      <th></th>\n",
       "      <th>Person ID</th>\n",
       "      <th>Gender</th>\n",
       "      <th>Age</th>\n",
       "      <th>Occupation</th>\n",
       "      <th>Sleep Duration</th>\n",
       "      <th>Quality of Sleep</th>\n",
       "      <th>Physical Activity Level</th>\n",
       "      <th>Stress Level</th>\n",
       "      <th>BMI Category</th>\n",
       "      <th>Blood Pressure</th>\n",
       "      <th>Heart Rate</th>\n",
       "      <th>Daily Steps</th>\n",
       "      <th>Sleep Disorder</th>\n",
       "    </tr>\n",
       "  </thead>\n",
       "  <tbody>\n",
       "    <tr>\n",
       "      <th>0</th>\n",
       "      <td>1</td>\n",
       "      <td>Male</td>\n",
       "      <td>27</td>\n",
       "      <td>Software Engineer</td>\n",
       "      <td>6.1</td>\n",
       "      <td>6</td>\n",
       "      <td>42</td>\n",
       "      <td>6</td>\n",
       "      <td>Overweight</td>\n",
       "      <td>126/83</td>\n",
       "      <td>77</td>\n",
       "      <td>4200</td>\n",
       "      <td>NaN</td>\n",
       "    </tr>\n",
       "    <tr>\n",
       "      <th>1</th>\n",
       "      <td>2</td>\n",
       "      <td>Male</td>\n",
       "      <td>28</td>\n",
       "      <td>Doctor</td>\n",
       "      <td>6.2</td>\n",
       "      <td>6</td>\n",
       "      <td>60</td>\n",
       "      <td>8</td>\n",
       "      <td>Normal</td>\n",
       "      <td>125/80</td>\n",
       "      <td>75</td>\n",
       "      <td>10000</td>\n",
       "      <td>NaN</td>\n",
       "    </tr>\n",
       "    <tr>\n",
       "      <th>2</th>\n",
       "      <td>3</td>\n",
       "      <td>Male</td>\n",
       "      <td>28</td>\n",
       "      <td>Doctor</td>\n",
       "      <td>6.2</td>\n",
       "      <td>6</td>\n",
       "      <td>60</td>\n",
       "      <td>8</td>\n",
       "      <td>Normal</td>\n",
       "      <td>125/80</td>\n",
       "      <td>75</td>\n",
       "      <td>10000</td>\n",
       "      <td>NaN</td>\n",
       "    </tr>\n",
       "    <tr>\n",
       "      <th>3</th>\n",
       "      <td>4</td>\n",
       "      <td>Male</td>\n",
       "      <td>28</td>\n",
       "      <td>Sales Representative</td>\n",
       "      <td>5.9</td>\n",
       "      <td>4</td>\n",
       "      <td>30</td>\n",
       "      <td>8</td>\n",
       "      <td>Obese</td>\n",
       "      <td>140/90</td>\n",
       "      <td>85</td>\n",
       "      <td>3000</td>\n",
       "      <td>Sleep Apnea</td>\n",
       "    </tr>\n",
       "    <tr>\n",
       "      <th>4</th>\n",
       "      <td>5</td>\n",
       "      <td>Male</td>\n",
       "      <td>28</td>\n",
       "      <td>Sales Representative</td>\n",
       "      <td>5.9</td>\n",
       "      <td>4</td>\n",
       "      <td>30</td>\n",
       "      <td>8</td>\n",
       "      <td>Obese</td>\n",
       "      <td>140/90</td>\n",
       "      <td>85</td>\n",
       "      <td>3000</td>\n",
       "      <td>Sleep Apnea</td>\n",
       "    </tr>\n",
       "    <tr>\n",
       "      <th>...</th>\n",
       "      <td>...</td>\n",
       "      <td>...</td>\n",
       "      <td>...</td>\n",
       "      <td>...</td>\n",
       "      <td>...</td>\n",
       "      <td>...</td>\n",
       "      <td>...</td>\n",
       "      <td>...</td>\n",
       "      <td>...</td>\n",
       "      <td>...</td>\n",
       "      <td>...</td>\n",
       "      <td>...</td>\n",
       "      <td>...</td>\n",
       "    </tr>\n",
       "    <tr>\n",
       "      <th>369</th>\n",
       "      <td>370</td>\n",
       "      <td>Female</td>\n",
       "      <td>59</td>\n",
       "      <td>Nurse</td>\n",
       "      <td>8.1</td>\n",
       "      <td>9</td>\n",
       "      <td>75</td>\n",
       "      <td>3</td>\n",
       "      <td>Overweight</td>\n",
       "      <td>140/95</td>\n",
       "      <td>68</td>\n",
       "      <td>7000</td>\n",
       "      <td>Sleep Apnea</td>\n",
       "    </tr>\n",
       "    <tr>\n",
       "      <th>370</th>\n",
       "      <td>371</td>\n",
       "      <td>Female</td>\n",
       "      <td>59</td>\n",
       "      <td>Nurse</td>\n",
       "      <td>8.0</td>\n",
       "      <td>9</td>\n",
       "      <td>75</td>\n",
       "      <td>3</td>\n",
       "      <td>Overweight</td>\n",
       "      <td>140/95</td>\n",
       "      <td>68</td>\n",
       "      <td>7000</td>\n",
       "      <td>Sleep Apnea</td>\n",
       "    </tr>\n",
       "    <tr>\n",
       "      <th>371</th>\n",
       "      <td>372</td>\n",
       "      <td>Female</td>\n",
       "      <td>59</td>\n",
       "      <td>Nurse</td>\n",
       "      <td>8.1</td>\n",
       "      <td>9</td>\n",
       "      <td>75</td>\n",
       "      <td>3</td>\n",
       "      <td>Overweight</td>\n",
       "      <td>140/95</td>\n",
       "      <td>68</td>\n",
       "      <td>7000</td>\n",
       "      <td>Sleep Apnea</td>\n",
       "    </tr>\n",
       "    <tr>\n",
       "      <th>372</th>\n",
       "      <td>373</td>\n",
       "      <td>Female</td>\n",
       "      <td>59</td>\n",
       "      <td>Nurse</td>\n",
       "      <td>8.1</td>\n",
       "      <td>9</td>\n",
       "      <td>75</td>\n",
       "      <td>3</td>\n",
       "      <td>Overweight</td>\n",
       "      <td>140/95</td>\n",
       "      <td>68</td>\n",
       "      <td>7000</td>\n",
       "      <td>Sleep Apnea</td>\n",
       "    </tr>\n",
       "    <tr>\n",
       "      <th>373</th>\n",
       "      <td>374</td>\n",
       "      <td>Female</td>\n",
       "      <td>59</td>\n",
       "      <td>Nurse</td>\n",
       "      <td>8.1</td>\n",
       "      <td>9</td>\n",
       "      <td>75</td>\n",
       "      <td>3</td>\n",
       "      <td>Overweight</td>\n",
       "      <td>140/95</td>\n",
       "      <td>68</td>\n",
       "      <td>7000</td>\n",
       "      <td>Sleep Apnea</td>\n",
       "    </tr>\n",
       "  </tbody>\n",
       "</table>\n",
       "<p>374 rows × 13 columns</p>\n",
       "</div>"
      ],
      "text/plain": [
       "     Person ID  Gender  Age            Occupation  Sleep Duration  \\\n",
       "0            1    Male   27     Software Engineer             6.1   \n",
       "1            2    Male   28                Doctor             6.2   \n",
       "2            3    Male   28                Doctor             6.2   \n",
       "3            4    Male   28  Sales Representative             5.9   \n",
       "4            5    Male   28  Sales Representative             5.9   \n",
       "..         ...     ...  ...                   ...             ...   \n",
       "369        370  Female   59                 Nurse             8.1   \n",
       "370        371  Female   59                 Nurse             8.0   \n",
       "371        372  Female   59                 Nurse             8.1   \n",
       "372        373  Female   59                 Nurse             8.1   \n",
       "373        374  Female   59                 Nurse             8.1   \n",
       "\n",
       "     Quality of Sleep  Physical Activity Level  Stress Level BMI Category  \\\n",
       "0                   6                       42             6   Overweight   \n",
       "1                   6                       60             8       Normal   \n",
       "2                   6                       60             8       Normal   \n",
       "3                   4                       30             8        Obese   \n",
       "4                   4                       30             8        Obese   \n",
       "..                ...                      ...           ...          ...   \n",
       "369                 9                       75             3   Overweight   \n",
       "370                 9                       75             3   Overweight   \n",
       "371                 9                       75             3   Overweight   \n",
       "372                 9                       75             3   Overweight   \n",
       "373                 9                       75             3   Overweight   \n",
       "\n",
       "    Blood Pressure  Heart Rate  Daily Steps Sleep Disorder  \n",
       "0           126/83          77         4200            NaN  \n",
       "1           125/80          75        10000            NaN  \n",
       "2           125/80          75        10000            NaN  \n",
       "3           140/90          85         3000    Sleep Apnea  \n",
       "4           140/90          85         3000    Sleep Apnea  \n",
       "..             ...         ...          ...            ...  \n",
       "369         140/95          68         7000    Sleep Apnea  \n",
       "370         140/95          68         7000    Sleep Apnea  \n",
       "371         140/95          68         7000    Sleep Apnea  \n",
       "372         140/95          68         7000    Sleep Apnea  \n",
       "373         140/95          68         7000    Sleep Apnea  \n",
       "\n",
       "[374 rows x 13 columns]"
      ]
     },
     "execution_count": 48,
     "metadata": {},
     "output_type": "execute_result"
    }
   ],
   "source": [
    "# Check if work or not\n",
    "df_sleep"
   ]
  },
  {
   "cell_type": "markdown",
   "metadata": {},
   "source": [
    "### Checking for null values "
   ]
  },
  {
   "cell_type": "code",
   "execution_count": 49,
   "metadata": {},
   "outputs": [
    {
     "data": {
      "text/plain": [
       "Index(['Person ID', 'Gender', 'Age', 'Occupation', 'Sleep Duration',\n",
       "       'Quality of Sleep', 'Physical Activity Level', 'Stress Level',\n",
       "       'BMI Category', 'Blood Pressure', 'Heart Rate', 'Daily Steps',\n",
       "       'Sleep Disorder'],\n",
       "      dtype='object')"
      ]
     },
     "execution_count": 49,
     "metadata": {},
     "output_type": "execute_result"
    }
   ],
   "source": [
    "# Drop columns\n",
    "df_sleep.columns"
   ]
  },
  {
   "cell_type": "code",
   "execution_count": 50,
   "metadata": {},
   "outputs": [
    {
     "name": "stdout",
     "output_type": "stream",
     "text": [
      "     Person ID  Gender    Age  Occupation  Sleep Duration  Quality of Sleep  \\\n",
      "0        False   False  False       False           False             False   \n",
      "1        False   False  False       False           False             False   \n",
      "2        False   False  False       False           False             False   \n",
      "3        False   False  False       False           False             False   \n",
      "4        False   False  False       False           False             False   \n",
      "..         ...     ...    ...         ...             ...               ...   \n",
      "369      False   False  False       False           False             False   \n",
      "370      False   False  False       False           False             False   \n",
      "371      False   False  False       False           False             False   \n",
      "372      False   False  False       False           False             False   \n",
      "373      False   False  False       False           False             False   \n",
      "\n",
      "     Physical Activity Level  Stress Level  BMI Category  Blood Pressure  \\\n",
      "0                      False         False         False           False   \n",
      "1                      False         False         False           False   \n",
      "2                      False         False         False           False   \n",
      "3                      False         False         False           False   \n",
      "4                      False         False         False           False   \n",
      "..                       ...           ...           ...             ...   \n",
      "369                    False         False         False           False   \n",
      "370                    False         False         False           False   \n",
      "371                    False         False         False           False   \n",
      "372                    False         False         False           False   \n",
      "373                    False         False         False           False   \n",
      "\n",
      "     Heart Rate  Daily Steps  Sleep Disorder  \n",
      "0         False        False            True  \n",
      "1         False        False            True  \n",
      "2         False        False            True  \n",
      "3         False        False           False  \n",
      "4         False        False           False  \n",
      "..          ...          ...             ...  \n",
      "369       False        False           False  \n",
      "370       False        False           False  \n",
      "371       False        False           False  \n",
      "372       False        False           False  \n",
      "373       False        False           False  \n",
      "\n",
      "[374 rows x 13 columns]\n"
     ]
    }
   ],
   "source": [
    "# To detect null values\n",
    "print(df_sleep.isnull())"
   ]
  },
  {
   "cell_type": "code",
   "execution_count": 51,
   "metadata": {},
   "outputs": [
    {
     "name": "stdout",
     "output_type": "stream",
     "text": [
      "Person ID                    0\n",
      "Gender                       0\n",
      "Age                          0\n",
      "Occupation                   0\n",
      "Sleep Duration               0\n",
      "Quality of Sleep             0\n",
      "Physical Activity Level      0\n",
      "Stress Level                 0\n",
      "BMI Category                 0\n",
      "Blood Pressure               0\n",
      "Heart Rate                   0\n",
      "Daily Steps                  0\n",
      "Sleep Disorder             219\n",
      "dtype: int64\n"
     ]
    }
   ],
   "source": [
    "# count null values for columns\n",
    "print(df_sleep.isnull().sum())"
   ]
  },
  {
   "cell_type": "code",
   "execution_count": 52,
   "metadata": {},
   "outputs": [
    {
     "name": "stdout",
     "output_type": "stream",
     "text": [
      "0       True\n",
      "1       True\n",
      "2       True\n",
      "3      False\n",
      "4      False\n",
      "       ...  \n",
      "369    False\n",
      "370    False\n",
      "371    False\n",
      "372    False\n",
      "373    False\n",
      "Name: Sleep Disorder, Length: 374, dtype: bool\n"
     ]
    }
   ],
   "source": [
    "# Count null values in column Sleep Disorder\n",
    "print(df_sleep['Sleep Disorder'].isnull())"
   ]
  },
  {
   "cell_type": "code",
   "execution_count": 53,
   "metadata": {},
   "outputs": [
    {
     "name": "stdout",
     "output_type": "stream",
     "text": [
      "58.55614973262032\n"
     ]
    }
   ],
   "source": [
    "# percent of null value in Sleep Disorder column\n",
    "print(df_sleep['Sleep Disorder'].isnull().mean() * 100)"
   ]
  },
  {
   "cell_type": "code",
   "execution_count": 54,
   "metadata": {},
   "outputs": [
    {
     "data": {
      "text/plain": [
       "Person ID                    int64\n",
       "Gender                      object\n",
       "Age                          int64\n",
       "Occupation                  object\n",
       "Sleep Duration             float64\n",
       "Quality of Sleep             int64\n",
       "Physical Activity Level      int64\n",
       "Stress Level                 int64\n",
       "BMI Category                object\n",
       "Blood Pressure              object\n",
       "Heart Rate                   int64\n",
       "Daily Steps                  int64\n",
       "Sleep Disorder              object\n",
       "dtype: object"
      ]
     },
     "execution_count": 54,
     "metadata": {},
     "output_type": "execute_result"
    }
   ],
   "source": [
    "# Check columns datatype\n",
    "df_sleep.dtypes"
   ]
  },
  {
   "cell_type": "code",
   "execution_count": 55,
   "metadata": {},
   "outputs": [],
   "source": [
    "# Convert column to string\n",
    "# df_sleep = df_sleep.astype({'BMI Category': 'string', 'Sleep Disorder': 'string'})\n",
    "df_sleep = df_sleep.astype({'BMI Category': 'string'})"
   ]
  },
  {
   "cell_type": "code",
   "execution_count": 56,
   "metadata": {},
   "outputs": [
    {
     "data": {
      "text/plain": [
       "Person ID                           int64\n",
       "Gender                             object\n",
       "Age                                 int64\n",
       "Occupation                         object\n",
       "Sleep Duration                    float64\n",
       "Quality of Sleep                    int64\n",
       "Physical Activity Level             int64\n",
       "Stress Level                        int64\n",
       "BMI Category               string[python]\n",
       "Blood Pressure                     object\n",
       "Heart Rate                          int64\n",
       "Daily Steps                         int64\n",
       "Sleep Disorder                     object\n",
       "dtype: object"
      ]
     },
     "execution_count": 56,
     "metadata": {},
     "output_type": "execute_result"
    }
   ],
   "source": [
    "df_sleep.dtypes"
   ]
  },
  {
   "cell_type": "markdown",
   "metadata": {},
   "source": [
    "### Cleaning data"
   ]
  },
  {
   "cell_type": "code",
   "execution_count": 57,
   "metadata": {},
   "outputs": [],
   "source": [
    "# Rename Column\n",
    "df_sleep.rename(columns={\"Person ID\": \"ID\"}, inplace=True)"
   ]
  },
  {
   "cell_type": "code",
   "execution_count": 58,
   "metadata": {},
   "outputs": [],
   "source": [
    "\n",
    "# Replace columns content\n",
    "df_sleep['BMI Category'] = df_sleep['BMI Category'].replace({'Normal': 'Normal Weight'}) # replace 'Normal' to 'Normal Weight'\n"
   ]
  },
  {
   "cell_type": "code",
   "execution_count": 59,
   "metadata": {},
   "outputs": [],
   "source": [
    "\n",
    "df_sleep['Sleep Disorder'] = df_sleep['Sleep Disorder'].replace({'': 'MISSING'}) # replace 'None' to 'MISSING'\n"
   ]
  },
  {
   "cell_type": "code",
   "execution_count": 60,
   "metadata": {},
   "outputs": [],
   "source": [
    "# Fill with constant value for all missing values in the column\n",
    "df_sleep['Sleep Disorder'] = df_sleep['Sleep Disorder'].fillna('MISSING')"
   ]
  },
  {
   "cell_type": "code",
   "execution_count": 61,
   "metadata": {},
   "outputs": [
    {
     "data": {
      "text/html": [
       "<div>\n",
       "<style scoped>\n",
       "    .dataframe tbody tr th:only-of-type {\n",
       "        vertical-align: middle;\n",
       "    }\n",
       "\n",
       "    .dataframe tbody tr th {\n",
       "        vertical-align: top;\n",
       "    }\n",
       "\n",
       "    .dataframe thead th {\n",
       "        text-align: right;\n",
       "    }\n",
       "</style>\n",
       "<table border=\"1\" class=\"dataframe\">\n",
       "  <thead>\n",
       "    <tr style=\"text-align: right;\">\n",
       "      <th></th>\n",
       "      <th>ID</th>\n",
       "      <th>Gender</th>\n",
       "      <th>Age</th>\n",
       "      <th>Occupation</th>\n",
       "      <th>Sleep Duration</th>\n",
       "      <th>Quality of Sleep</th>\n",
       "      <th>Physical Activity Level</th>\n",
       "      <th>Stress Level</th>\n",
       "      <th>BMI Category</th>\n",
       "      <th>Blood Pressure</th>\n",
       "      <th>Heart Rate</th>\n",
       "      <th>Daily Steps</th>\n",
       "      <th>Sleep Disorder</th>\n",
       "    </tr>\n",
       "  </thead>\n",
       "  <tbody>\n",
       "    <tr>\n",
       "      <th>0</th>\n",
       "      <td>1</td>\n",
       "      <td>Male</td>\n",
       "      <td>27</td>\n",
       "      <td>Software Engineer</td>\n",
       "      <td>6.1</td>\n",
       "      <td>6</td>\n",
       "      <td>42</td>\n",
       "      <td>6</td>\n",
       "      <td>Overweight</td>\n",
       "      <td>126/83</td>\n",
       "      <td>77</td>\n",
       "      <td>4200</td>\n",
       "      <td>MISSING</td>\n",
       "    </tr>\n",
       "    <tr>\n",
       "      <th>1</th>\n",
       "      <td>2</td>\n",
       "      <td>Male</td>\n",
       "      <td>28</td>\n",
       "      <td>Doctor</td>\n",
       "      <td>6.2</td>\n",
       "      <td>6</td>\n",
       "      <td>60</td>\n",
       "      <td>8</td>\n",
       "      <td>Normal Weight</td>\n",
       "      <td>125/80</td>\n",
       "      <td>75</td>\n",
       "      <td>10000</td>\n",
       "      <td>MISSING</td>\n",
       "    </tr>\n",
       "    <tr>\n",
       "      <th>2</th>\n",
       "      <td>3</td>\n",
       "      <td>Male</td>\n",
       "      <td>28</td>\n",
       "      <td>Doctor</td>\n",
       "      <td>6.2</td>\n",
       "      <td>6</td>\n",
       "      <td>60</td>\n",
       "      <td>8</td>\n",
       "      <td>Normal Weight</td>\n",
       "      <td>125/80</td>\n",
       "      <td>75</td>\n",
       "      <td>10000</td>\n",
       "      <td>MISSING</td>\n",
       "    </tr>\n",
       "    <tr>\n",
       "      <th>3</th>\n",
       "      <td>4</td>\n",
       "      <td>Male</td>\n",
       "      <td>28</td>\n",
       "      <td>Sales Representative</td>\n",
       "      <td>5.9</td>\n",
       "      <td>4</td>\n",
       "      <td>30</td>\n",
       "      <td>8</td>\n",
       "      <td>Obese</td>\n",
       "      <td>140/90</td>\n",
       "      <td>85</td>\n",
       "      <td>3000</td>\n",
       "      <td>Sleep Apnea</td>\n",
       "    </tr>\n",
       "    <tr>\n",
       "      <th>4</th>\n",
       "      <td>5</td>\n",
       "      <td>Male</td>\n",
       "      <td>28</td>\n",
       "      <td>Sales Representative</td>\n",
       "      <td>5.9</td>\n",
       "      <td>4</td>\n",
       "      <td>30</td>\n",
       "      <td>8</td>\n",
       "      <td>Obese</td>\n",
       "      <td>140/90</td>\n",
       "      <td>85</td>\n",
       "      <td>3000</td>\n",
       "      <td>Sleep Apnea</td>\n",
       "    </tr>\n",
       "    <tr>\n",
       "      <th>...</th>\n",
       "      <td>...</td>\n",
       "      <td>...</td>\n",
       "      <td>...</td>\n",
       "      <td>...</td>\n",
       "      <td>...</td>\n",
       "      <td>...</td>\n",
       "      <td>...</td>\n",
       "      <td>...</td>\n",
       "      <td>...</td>\n",
       "      <td>...</td>\n",
       "      <td>...</td>\n",
       "      <td>...</td>\n",
       "      <td>...</td>\n",
       "    </tr>\n",
       "    <tr>\n",
       "      <th>369</th>\n",
       "      <td>370</td>\n",
       "      <td>Female</td>\n",
       "      <td>59</td>\n",
       "      <td>Nurse</td>\n",
       "      <td>8.1</td>\n",
       "      <td>9</td>\n",
       "      <td>75</td>\n",
       "      <td>3</td>\n",
       "      <td>Overweight</td>\n",
       "      <td>140/95</td>\n",
       "      <td>68</td>\n",
       "      <td>7000</td>\n",
       "      <td>Sleep Apnea</td>\n",
       "    </tr>\n",
       "    <tr>\n",
       "      <th>370</th>\n",
       "      <td>371</td>\n",
       "      <td>Female</td>\n",
       "      <td>59</td>\n",
       "      <td>Nurse</td>\n",
       "      <td>8.0</td>\n",
       "      <td>9</td>\n",
       "      <td>75</td>\n",
       "      <td>3</td>\n",
       "      <td>Overweight</td>\n",
       "      <td>140/95</td>\n",
       "      <td>68</td>\n",
       "      <td>7000</td>\n",
       "      <td>Sleep Apnea</td>\n",
       "    </tr>\n",
       "    <tr>\n",
       "      <th>371</th>\n",
       "      <td>372</td>\n",
       "      <td>Female</td>\n",
       "      <td>59</td>\n",
       "      <td>Nurse</td>\n",
       "      <td>8.1</td>\n",
       "      <td>9</td>\n",
       "      <td>75</td>\n",
       "      <td>3</td>\n",
       "      <td>Overweight</td>\n",
       "      <td>140/95</td>\n",
       "      <td>68</td>\n",
       "      <td>7000</td>\n",
       "      <td>Sleep Apnea</td>\n",
       "    </tr>\n",
       "    <tr>\n",
       "      <th>372</th>\n",
       "      <td>373</td>\n",
       "      <td>Female</td>\n",
       "      <td>59</td>\n",
       "      <td>Nurse</td>\n",
       "      <td>8.1</td>\n",
       "      <td>9</td>\n",
       "      <td>75</td>\n",
       "      <td>3</td>\n",
       "      <td>Overweight</td>\n",
       "      <td>140/95</td>\n",
       "      <td>68</td>\n",
       "      <td>7000</td>\n",
       "      <td>Sleep Apnea</td>\n",
       "    </tr>\n",
       "    <tr>\n",
       "      <th>373</th>\n",
       "      <td>374</td>\n",
       "      <td>Female</td>\n",
       "      <td>59</td>\n",
       "      <td>Nurse</td>\n",
       "      <td>8.1</td>\n",
       "      <td>9</td>\n",
       "      <td>75</td>\n",
       "      <td>3</td>\n",
       "      <td>Overweight</td>\n",
       "      <td>140/95</td>\n",
       "      <td>68</td>\n",
       "      <td>7000</td>\n",
       "      <td>Sleep Apnea</td>\n",
       "    </tr>\n",
       "  </tbody>\n",
       "</table>\n",
       "<p>374 rows × 13 columns</p>\n",
       "</div>"
      ],
      "text/plain": [
       "      ID  Gender  Age            Occupation  Sleep Duration  Quality of Sleep  \\\n",
       "0      1    Male   27     Software Engineer             6.1                 6   \n",
       "1      2    Male   28                Doctor             6.2                 6   \n",
       "2      3    Male   28                Doctor             6.2                 6   \n",
       "3      4    Male   28  Sales Representative             5.9                 4   \n",
       "4      5    Male   28  Sales Representative             5.9                 4   \n",
       "..   ...     ...  ...                   ...             ...               ...   \n",
       "369  370  Female   59                 Nurse             8.1                 9   \n",
       "370  371  Female   59                 Nurse             8.0                 9   \n",
       "371  372  Female   59                 Nurse             8.1                 9   \n",
       "372  373  Female   59                 Nurse             8.1                 9   \n",
       "373  374  Female   59                 Nurse             8.1                 9   \n",
       "\n",
       "     Physical Activity Level  Stress Level   BMI Category Blood Pressure  \\\n",
       "0                         42             6     Overweight         126/83   \n",
       "1                         60             8  Normal Weight         125/80   \n",
       "2                         60             8  Normal Weight         125/80   \n",
       "3                         30             8          Obese         140/90   \n",
       "4                         30             8          Obese         140/90   \n",
       "..                       ...           ...            ...            ...   \n",
       "369                       75             3     Overweight         140/95   \n",
       "370                       75             3     Overweight         140/95   \n",
       "371                       75             3     Overweight         140/95   \n",
       "372                       75             3     Overweight         140/95   \n",
       "373                       75             3     Overweight         140/95   \n",
       "\n",
       "     Heart Rate  Daily Steps Sleep Disorder  \n",
       "0            77         4200        MISSING  \n",
       "1            75        10000        MISSING  \n",
       "2            75        10000        MISSING  \n",
       "3            85         3000    Sleep Apnea  \n",
       "4            85         3000    Sleep Apnea  \n",
       "..          ...          ...            ...  \n",
       "369          68         7000    Sleep Apnea  \n",
       "370          68         7000    Sleep Apnea  \n",
       "371          68         7000    Sleep Apnea  \n",
       "372          68         7000    Sleep Apnea  \n",
       "373          68         7000    Sleep Apnea  \n",
       "\n",
       "[374 rows x 13 columns]"
      ]
     },
     "execution_count": 61,
     "metadata": {},
     "output_type": "execute_result"
    }
   ],
   "source": [
    "df_sleep"
   ]
  },
  {
   "cell_type": "code",
   "execution_count": 62,
   "metadata": {},
   "outputs": [
    {
     "name": "stdout",
     "output_type": "stream",
     "text": [
      "ID                         0\n",
      "Gender                     0\n",
      "Age                        0\n",
      "Occupation                 0\n",
      "Sleep Duration             0\n",
      "Quality of Sleep           0\n",
      "Physical Activity Level    0\n",
      "Stress Level               0\n",
      "BMI Category               0\n",
      "Blood Pressure             0\n",
      "Heart Rate                 0\n",
      "Daily Steps                0\n",
      "Sleep Disorder             0\n",
      "dtype: int64\n"
     ]
    }
   ],
   "source": [
    "# Verify if there are null values\n",
    "print(df_sleep.isnull().sum())"
   ]
  },
  {
   "cell_type": "code",
   "execution_count": 63,
   "metadata": {},
   "outputs": [
    {
     "name": "stdout",
     "output_type": "stream",
     "text": [
      "ID                         0.0\n",
      "Gender                     0.0\n",
      "Age                        0.0\n",
      "Occupation                 0.0\n",
      "Sleep Duration             0.0\n",
      "Quality of Sleep           0.0\n",
      "Physical Activity Level    0.0\n",
      "Stress Level               0.0\n",
      "BMI Category               0.0\n",
      "Blood Pressure             0.0\n",
      "Heart Rate                 0.0\n",
      "Daily Steps                0.0\n",
      "Sleep Disorder             0.0\n",
      "dtype: float64\n"
     ]
    }
   ],
   "source": [
    "print(df_sleep.isnull().mean() * 100)"
   ]
  },
  {
   "cell_type": "markdown",
   "metadata": {},
   "source": [
    "### Export modify dataset"
   ]
  },
  {
   "cell_type": "code",
   "execution_count": null,
   "metadata": {},
   "outputs": [],
   "source": [
    "# Export a CSV dataframe\n",
    "df_sleep.to_csv('../data/Sleep_health_and_lifestyle_dataset_corregido.csv', index=False)"
   ]
  },
  {
   "cell_type": "markdown",
   "metadata": {},
   "source": [
    "### Visualization an analysis of data"
   ]
  },
  {
   "cell_type": "markdown",
   "metadata": {},
   "source": [
    "##### The following chart analyzes how sleep disorders are distributed by age, which allows us to:\n",
    "\n",
    "✅  **Identify age groups** most affected by sleep disorders\n",
    "\n",
    "✅  **Understand the relationship** between age and sleep disorder patterns\n",
    "\n",
    "✅  **Establish baseline data** for comparative studies"
   ]
  },
  {
   "cell_type": "code",
   "execution_count": 71,
   "metadata": {},
   "outputs": [
    {
     "data": {
      "image/png": "[encoded data removed]",
      "text/plain": [
       "<Figure size 1200x600 with 1 Axes>"
      ]
     },
     "metadata": {},
     "output_type": "display_data"
    }
   ],
   "source": [
    "plt.figure(figsize=(12, 6))\n",
    "\n",
    "# FILTER: Exclude rows where 'Sleep Disorder' is 'MISSING'\n",
    "df_filtered = df_sleep[df_sleep['Sleep Disorder'] != 'MISSING']\n",
    "\n",
    "# Calculate statistics by group\n",
    "stats = df_filtered.groupby('Sleep Disorder')['Age'].agg(['mean', 'std', 'count']).reset_index()\n",
    "\n",
    "# Bar chart with error bars\n",
    "plt.bar(stats['Sleep Disorder'], stats['mean'], yerr=stats['std'], \n",
    "        capsize=5, alpha=0.7, edgecolor='black')\n",
    "plt.title('Average Age by Sleep Disorder Type (± std deviation)') # standard deviation\n",
    "plt.ylabel('Average Age')\n",
    "plt.xticks(rotation=45)\n",
    "plt.grid(axis='y', alpha=0.3)\n",
    "\n",
    "# Add sample count\n",
    "for i, (mean, count) in enumerate(zip(stats['mean'], stats['count'])):\n",
    "    plt.text(i, mean + stats['std'][i] + 1, f'n={count}', ha='center')\n",
    "\n",
    "plt.tight_layout()\n",
    "\n",
    "# Save image BEFORE of plt.show()\n",
    "plt.savefig('../plot/age_by_sleep_disorder_type.png')\n",
    "plt.show()"
   ]
  },
  {
   "cell_type": "markdown",
   "metadata": {},
   "source": [
    "##### This chart analyzes which gender is more affected by sleep disorders and the magnitude of these differences, enabling us to:\n",
    "\n",
    "✅ **Map the demographic distribution** of sleep apnea cases\n",
    "\n",
    "✅ **Focus healthcare resources** on higher-risk population groups\n",
    "\n",
    "✅ **Understand broader population** health patterns and trends"
   ]
  },
  {
   "cell_type": "code",
   "execution_count": 70,
   "metadata": {},
   "outputs": [
    {
     "name": "stdout",
     "output_type": "stream",
     "text": [
      "Contingency table:\n",
      "Sleep Disorder  Sleep Apnea\n",
      "Gender                     \n",
      "Female                   67\n",
      "Male                     11\n"
     ]
    },
    {
     "data": {
      "image/png": "[encoded data removed]",
      "text/plain": [
       "<Figure size 800x800 with 1 Axes>"
      ]
     },
     "metadata": {},
     "output_type": "display_data"
    }
   ],
   "source": [
    "# Filter only the rows with Sleep Apnea\n",
    "apnea_data = df_sleep[df_sleep['Sleep Disorder'] == 'Sleep Apnea']\n",
    "\n",
    "# Create contingency table\n",
    "contingency_table = pd.crosstab(apnea_data['Gender'], apnea_data['Sleep Disorder'])\n",
    "print(\"Contingency table:\")\n",
    "print(contingency_table)\n",
    "\n",
    "plt.figure(figsize=(8, 8))\n",
    "gender_counts = apnea_data['Gender'].value_counts()\n",
    "plt.pie(gender_counts.values, labels=gender_counts.index, autopct='%1.1f%%', \n",
    "        colors=['lightblue', 'lightpink'], startangle=90)\n",
    "plt.title('Distribution of Sleep Apnea Cases by Gender')\n",
    "\n",
    "# Save image BEFORE of plt.show()\n",
    "plt.savefig('../plot/distribution_of_sleep_apnea_by_gender.png')\n",
    "\n",
    "plt.show()"
   ]
  },
  {
   "cell_type": "markdown",
   "metadata": {},
   "source": [
    "##### The following chart analyzes the relationship between weight variations and sleep disorders, using BMI category data and sleep disorder types as reference. In this analysis, we decided to exclude null values to make the results more accurate.\n",
    "\n",
    "This analysis allowed us to:\n",
    "\n",
    "✅ **Identify high-risk** groups based on BMI\n",
    "\n",
    "✅ **Prioritize interventions** for specific populations\n",
    "\n",
    "✅ **Understand** the population distribution of sleep disorders"
   ]
  },
  {
   "cell_type": "code",
   "execution_count": 69,
   "metadata": {},
   "outputs": [
    {
     "data": {
      "image/png": "[encoded data removed]",
      "text/plain": [
       "<Figure size 640x480 with 2 Axes>"
      ]
     },
     "metadata": {},
     "output_type": "display_data"
    }
   ],
   "source": [
    "# Import seaborn library\n",
    "import seaborn as sns\n",
    "\n",
    "# FILTER: Exclude rows where 'Sleep Disorder' is 'MISSING'\n",
    "df_filtered = df_sleep[df_sleep['Sleep Disorder'] != 'MISSING']\n",
    "\n",
    "plt.subplot(2, 2, 2)\n",
    "\n",
    "# Create contingency table\n",
    "contingency_table = pd.crosstab(df_filtered['BMI Category'], df_filtered['Sleep Disorder'], normalize='index') * 100\n",
    "sns.heatmap(contingency_table, annot=True, fmt='.1f', cmap='Blues')\n",
    "plt.title('Sleep Disorders by BMI Category (%)\\n(Excluding Missing Values)')\n",
    "plt.tight_layout()\n",
    "\n",
    "# Save image BEFORE of plt.show()\n",
    "plt.savefig('../plot/sleep_disorder_by_bmi_category.png')\n",
    "\n",
    "plt.show()"
   ]
  }
 ],
 "metadata": {
  "kernelspec": {
   "display_name": "Python 3",
   "language": "python",
   "name": "python3"
  },
  "language_info": {
   "codemirror_mode": {
    "name": "ipython",
    "version": 3
   },
   "file_extension": ".py",
   "mimetype": "text/x-python",
   "name": "python",
   "nbconvert_exporter": "python",
   "pygments_lexer": "ipython3",
   "version": "3.12.4"
  }
 },
 "nbformat": 4,
 "nbformat_minor": 2
}
